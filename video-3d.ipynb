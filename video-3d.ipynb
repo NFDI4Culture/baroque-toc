{
 "cells": [
  {
   "cell_type": "raw",
   "id": "0c38dee3",
   "metadata": {},
   "source": [
    "---\n",
    "title: \"Embedded video and 3D\"\n",
    "jupyter: python3\n",
    "execute:\n",
    "  echo: true\n",
    "  output: asis\n",
    "---"
   ]
  },
  {
   "attachments": {},
   "cell_type": "markdown",
   "id": "eabab799",
   "metadata": {},
   "source": [
    "## Video embedding"
   ]
  },
  {
   "attachments": {},
   "cell_type": "markdown",
   "id": "f61a078d",
   "metadata": {},
   "source": [
    "The below Python code experiments with retrieving video data via iframe embedding. Video from [TIB AV Portal](https://av.tib.eu/)."
   ]
  },
  {
   "cell_type": "code",
   "execution_count": 4,
   "id": "5c5e274d",
   "metadata": {},
   "outputs": [
    {
     "data": {
      "text/html": [
       "\n",
       "<iframe width=\"600\" height=\"315\" scrolling=\"no\" src=\"https://av.tib.eu/player/56162\" frameborder=\"0\" allowfullscreen></iframe>\n"
      ],
      "text/plain": [
       "<IPython.core.display.HTML object>"
      ]
     },
     "execution_count": 4,
     "metadata": {},
     "output_type": "execute_result"
    }
   ],
   "source": [
    "from IPython.display import HTML\n",
    "HTML(\"\"\"\n",
    "<iframe width=\"600\" height=\"315\" scrolling=\"no\" src=\"https://av.tib.eu/player/56162\" frameborder=\"0\" allowfullscreen></iframe>\n",
    "\"\"\")"
   ]
  },
  {
   "attachments": {},
   "cell_type": "markdown",
   "id": "db6489b8",
   "metadata": {},
   "source": [
    "## 3D model embedding"
   ]
  },
  {
   "attachments": {},
   "cell_type": "markdown",
   "id": "73bd734d",
   "metadata": {},
   "source": [
    "The below Python code experiments with retrieving 3D data via iframe embedding. 3D models from demo instance of Semantic Kompakkt at [kompakkt.wbworkshop.tibwiki.io](https://kompakkt.wbworkshop.tibwiki.io/)"
   ]
  },
  {
   "cell_type": "code",
   "execution_count": 5,
   "id": "aa3b6fd1",
   "metadata": {},
   "outputs": [
    {
     "data": {
      "text/html": [
       "\n",
       "<iframe\n",
       "  width=\"600\" height=\"315\"\n",
       "  name=\"Cube STL\"\n",
       "  src=\"https://kompakkt.wbworkshop.tibwiki.io/viewer/?entity=63e91957f3dcab9b642046ce&mode=open\"\n",
       "  allowfullscreen\n",
       "  loading=\"lazy\"\n",
       "></iframe>\n"
      ],
      "text/plain": [
       "<IPython.core.display.HTML object>"
      ]
     },
     "execution_count": 5,
     "metadata": {},
     "output_type": "execute_result"
    }
   ],
   "source": [
    "from IPython.display import HTML\n",
    "HTML(\"\"\"\n",
    "<iframe\n",
    "  width=\"600\" height=\"315\"\n",
    "  name=\"Cube STL\"\n",
    "  src=\"https://kompakkt.wbworkshop.tibwiki.io/viewer/?entity=63e91957f3dcab9b642046ce&mode=open\"\n",
    "  allowfullscreen\n",
    "  loading=\"lazy\"\n",
    "></iframe>\n",
    "\"\"\")"
   ]
  },
  {
   "cell_type": "code",
   "execution_count": 6,
   "id": "1387ae9e",
   "metadata": {},
   "outputs": [
    {
     "data": {
      "text/html": [
       "\n",
       "<iframe\n",
       "  width=\"600\" height=\"315\"\n",
       "  name=\"Monopterus Schloss Monaise Trier Temple\"\n",
       "  src=\"https://kompakkt.wbworkshop.tibwiki.io/viewer/?entity=63e8d2fbfbc272b762204e1c&mode=open\"\n",
       "  allowfullscreen\n",
       "  loading=\"lazy\"\n",
       "></iframe>\n"
      ],
      "text/plain": [
       "<IPython.core.display.HTML object>"
      ]
     },
     "execution_count": 6,
     "metadata": {},
     "output_type": "execute_result"
    }
   ],
   "source": [
    "from IPython.display import HTML\n",
    "HTML(\"\"\"\n",
    "<iframe\n",
    "  width=\"600\" height=\"315\"\n",
    "  name=\"Monopterus Schloss Monaise Trier Temple\"\n",
    "  src=\"https://kompakkt.wbworkshop.tibwiki.io/viewer/?entity=63e8d2fbfbc272b762204e1c&mode=open\"\n",
    "  allowfullscreen\n",
    "  loading=\"lazy\"\n",
    "></iframe>\n",
    "\"\"\")"
   ]
  }
 ],
 "metadata": {
  "kernelspec": {
   "display_name": "Python 3",
   "language": "python",
   "name": "python3"
  },
  "language_info": {
   "codemirror_mode": {
    "name": "ipython",
    "version": 3
   },
   "file_extension": ".py",
   "mimetype": "text/x-python",
   "name": "python",
   "nbconvert_exporter": "python",
   "pygments_lexer": "ipython3",
   "version": "3.9.5"
  },
  "vscode": {
   "interpreter": {
    "hash": "4f95cac2866d48a154725f15da66ad3889a01053732bcd1fedad154961939282"
   }
  }
 },
 "nbformat": 4,
 "nbformat_minor": 5
}
